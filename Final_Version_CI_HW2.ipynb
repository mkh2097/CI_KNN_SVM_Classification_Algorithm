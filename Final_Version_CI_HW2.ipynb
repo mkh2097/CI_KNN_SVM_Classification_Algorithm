{
  "nbformat": 4,
  "nbformat_minor": 0,
  "metadata": {
    "colab": {
      "name": "Final Version CI-HW2.ipynb",
      "provenance": [],
      "collapsed_sections": [],
      "authorship_tag": "ABX9TyNvTNWelfYZFfYrQeGmzMKM",
      "include_colab_link": true
    },
    "kernelspec": {
      "name": "python3",
      "display_name": "Python 3"
    }
  },
  "cells": [
    {
      "cell_type": "markdown",
      "metadata": {
        "id": "view-in-github",
        "colab_type": "text"
      },
      "source": [
        "<a href=\"https://colab.research.google.com/github/mkh2097/CI_KNN_SVM_Classification_Algorithm/blob/main/Final_Version_CI_HW2.ipynb\" target=\"_parent\"><img src=\"https://colab.research.google.com/assets/colab-badge.svg\" alt=\"Open In Colab\"/></a>"
      ]
    },
    {
      "cell_type": "code",
      "metadata": {
        "id": "qMzmDcijdn07"
      },
      "source": [
        "  import csv\n",
        "  import numpy as np\n",
        "  import pandas as pd\n",
        "  from pandas.api.types import CategoricalDtype \n",
        "  from sklearn.model_selection import train_test_split\n",
        "  import ast\n",
        "  from collections import Counter \n",
        "  from sklearn.svm import SVC\n",
        "  from math import sqrt\n",
        "  import time\n"
      ],
      "execution_count": null,
      "outputs": []
    },
    {
      "cell_type": "code",
      "metadata": {
        "id": "791s_14ZYCpR"
      },
      "source": [
        "def keel_to_csv():\n",
        "  all_categories_attr = {}\n",
        "  with open(\"adult.csv\", \"w\") as cf:\n",
        "    writer = csv.writer(cf)\n",
        "    with open(\"adult.dat\", \"r\") as df:\n",
        "      lines = df.readlines()\n",
        "      for line in range(1,16):\n",
        "        attr_subject = lines[line][10:].split(' ', 2)[1]\n",
        "        attr_data = lines[line][10:].split(' ', 2)[2][:-1]\n",
        "\n",
        "        if not attr_data.startswith(\"real \"):\n",
        "            all_categories_attr[attr_subject] =  attr_data.strip('}{').split(', ')\n",
        "    \n",
        "      attr = lines[16][8:-1].split(', ')\n",
        "      attr_out = lines[17][9:-1]\n",
        "      attr.append(attr_out)\n",
        "      writer.writerow(attr)\n",
        "      for line in lines[19:]:\n",
        "        all_data = line.split(',')\n",
        "        true_data = all_data[:-1]\n",
        "        true_data.append(all_data[-1][:-1])\n",
        "        writer.writerow(true_data)\n",
        "\n",
        "  return all_categories_attr"
      ],
      "execution_count": null,
      "outputs": []
    },
    {
      "cell_type": "code",
      "metadata": {
        "id": "9RvQndHw5rsN"
      },
      "source": [
        "def read_csv(all_categories_attr):\n",
        "\n",
        "  csv_file_name = 'adult.csv'\n",
        "  csv_file = pd.read_csv(csv_file_name)\n",
        "\n",
        "  age = csv_file['Age'].values\n",
        "  workclass = csv_file['Workclass'].values\n",
        "  fnlwgt = csv_file['Fnlwgt'].values\n",
        "  education = csv_file['Education'].values\n",
        "  education_num = csv_file['Education-num'].values\n",
        "  marital_status = csv_file['Marital-status'].values\n",
        "  occupation = csv_file['Occupation'].values\n",
        "  relationship = csv_file['Relationship'].values\n",
        "  race = csv_file['Race'].values\n",
        "  sex = csv_file['Sex'].values\n",
        "  capital_gain = csv_file['Capital-gain'].values\n",
        "  capital_loss = csv_file['Capital-loss'].values\n",
        "  hours_per_week = csv_file['Hours-per-week'].values\n",
        "  native_country = csv_file['Native-country'].values\n",
        "  result = csv_file['Class'].values\n",
        "\n",
        "  columns_names = ['Age', 'Workclass', 'Fnlwgt', 'Education', 'Education-num', 'Marital-status', 'Occupation', 'Relationship', 'Race', 'Sex', 'Capital-gain', 'Capital-loss', 'Hours-per-week', 'Native-country', 'Class']\n",
        "  df = pd.DataFrame(list(zip(age, workclass, fnlwgt, education, education_num, marital_status, occupation, relationship, race, sex, capital_gain, capital_loss, hours_per_week, native_country, result)), columns = columns_names)\n",
        "\n",
        "  for column in df.columns:\n",
        "    if df[column].dtypes == \"object\":\n",
        "      df[column].replace({\"?\": df[column].value_counts().idxmax()}, inplace=True)\n",
        "      if column in list(all_categories_attr.keys()):\n",
        "        if column != \"Sex\" and column != \"Class\":\n",
        "          df[column] = df[column].astype(CategoricalDtype(all_categories_attr[column]))\n",
        "          df = df.join(pd.get_dummies(df[column],prefix=column))\n",
        "          df = df.drop(column,axis = 1)\n",
        "      else:\n",
        "        df[column] = df[column].astype(int)\n",
        "    else:\n",
        "      pass\n",
        "\n",
        "  df[\"Sex\"].replace({\"Female\": 0, \"Male\" : 1}, inplace=True)\n",
        "  df[\"Class\"].replace({\"<=50K\": 0, \">50K\" : 1}, inplace=True)\n",
        "\n",
        "  normalized_df = (df - df.min()) / (df.max() - df.min())\n",
        "\n",
        "  X = normalized_df.drop(\"Class\",axis = 1)\n",
        "  X = X.to_numpy()\n",
        "  Y = normalized_df[\"Class\"]\n",
        "  Y = Y.to_numpy()\n",
        "\n",
        "  X_train, X_test, Y_train, Y_test = train_test_split(X, Y, test_size = 0.01, random_state=0)\n",
        "\n",
        "  print(df)\n",
        "\n",
        "  print(\"\\nData Info:\")\n",
        "  print(\"DataSet Size: \" + str(len(df)))\n",
        "  print(\"Training Data Size: \" + str(len(X_train)))\n",
        "  print(\"Testing Data Size: \" + str(len(X_test)))\n",
        "\n",
        "\n",
        "  return X_train, X_test, Y_train, Y_test, df.min(), df.max()\n"
      ],
      "execution_count": null,
      "outputs": []
    },
    {
      "cell_type": "code",
      "metadata": {
        "id": "46d9MpwaV6CD"
      },
      "source": [
        "def euclidean_distance(first, second):\n",
        "  return np.sqrt(np.sum(np.power((second - first),2), axis = 1))"
      ],
      "execution_count": null,
      "outputs": []
    },
    {
      "cell_type": "code",
      "metadata": {
        "id": "GXjDvNfuHnCF"
      },
      "source": [
        "def knn(trains, tests, out_trains, out_tests, k):\n",
        "  print(\"=================================\")\n",
        "  print(\"Processing Manual KNN for K = \" + str(k))\n",
        "\n",
        "  start_time = time.time()\n",
        "\n",
        "  true_predict = 0   \n",
        "\n",
        "  for test in range(len(tests)):\n",
        "    dis = np.empty(0)\n",
        "    dis = np.append(dis, euclidean_distance(tests[test], trains))\n",
        "\n",
        "    index = np.argsort(dis)[0:k]\n",
        "\n",
        "    # dis = np.sort(dis)[0:k]\n",
        "\n",
        "    decision = np.empty(0)\n",
        "\n",
        "    for i in index:\n",
        "      decision = np.append(decision, out_trains[i])\n",
        "\n",
        "    final_decision = Counter(decision).most_common(1)[0][0] \n",
        " \n",
        "    if out_tests[test] == final_decision:\n",
        "        true_predict += 1\n",
        "    # break\n",
        "\n",
        "  end_time = time.time()\n",
        "\n",
        "  accuracy = true_predict / len(out_tests) * 100\n",
        "  print(\"Finished! in \" +str(end_time - start_time)+ \"s\\nAccuracy of Manual KNN:\" + str(accuracy))\n",
        "\n"
      ],
      "execution_count": null,
      "outputs": []
    },
    {
      "cell_type": "code",
      "metadata": {
        "id": "mkv_r_sRzRLZ"
      },
      "source": [
        "def svm(X_train, X_test, Y_train, Y_test):\n",
        "  \n",
        "  print(\"=================================\")\n",
        "  print(\"Processing SKLearn SVM\")\n",
        "  \n",
        "  start_time = time.time()\n",
        "\n",
        "\n",
        "  svclassifier = SVC(kernel='linear')\n",
        "  svclassifier.fit(X_train, Y_train)\n",
        "  Y_predict = svclassifier.predict(X_test)\n",
        "\n",
        "  end_time = time.time()\n",
        "\n",
        "  accuracy = (len(Y_test) - np.count_nonzero(Y_test - Y_predict)) / len(Y_test) *100\n",
        "\n",
        "  print(\"Finished! in \" +str(end_time - start_time) + \"s\\nAccuracy of SKLearn SVM:\" + str(accuracy))\n"
      ],
      "execution_count": null,
      "outputs": []
    },
    {
      "cell_type": "code",
      "metadata": {
        "id": "s0oo2PPtLAF5"
      },
      "source": [
        "from sklearn.neighbors import KNeighborsClassifier\n",
        "def knn_skilearn(X_train, X_test, Y_train, Y_test, k):\n",
        "  \n",
        "  print(\"=================================\")\n",
        "  print(\"Processing SKLearn KNN for K = \" + str(k))\n",
        "\n",
        "  start_time = time.time()\n",
        "\n",
        "  classifier = KNeighborsClassifier(n_neighbors=k)\n",
        "  classifier.fit(X_train, Y_train)\n",
        "  Y_predict = classifier.predict(X_test)\n",
        "\n",
        "  end_time = time.time()\n",
        "\n",
        "  accuracy = (len(Y_test) - np.count_nonzero(Y_test - Y_predict)) / len(Y_test) *100\n",
        "\n",
        "  print(\"Finished! in \" +str(end_time - start_time)+ \"s\\nAccuracy of SKLearn KNN:\" + str(accuracy))\n"
      ],
      "execution_count": null,
      "outputs": []
    },
    {
      "cell_type": "code",
      "metadata": {
        "id": "_egrOiYHa3e6"
      },
      "source": [
        "def main():\n",
        "  all_categories_attr = keel_to_csv()\n",
        "  X_train, X_test, Y_train, Y_test, min, max = read_csv(all_categories_attr)\n",
        "  k_init = int(sqrt(len(Y_test)))\n",
        "  k = int(input(\"\\nK has been set to \" + str(k_init) + \"\\nWanna change it?\\n-1=no\\nEnter Number for K: \"))\n",
        "  if k == -1:\n",
        "    k = k_init\n",
        "  knn(X_train, X_test,Y_train, Y_test, k)\n",
        "  knn_skilearn(X_train, X_test,Y_train, Y_test, k)\n",
        "  svm(X_train, X_test, Y_train, Y_test)"
      ],
      "execution_count": null,
      "outputs": []
    },
    {
      "cell_type": "code",
      "metadata": {
        "id": "bo7P6q7IbJyG",
        "colab": {
          "base_uri": "https://localhost:8080/"
        },
        "outputId": "37fb9e58-6bc9-4238-ee50-894acb44cb75"
      },
      "source": [
        "if __name__ == \"__main__\":\n",
        "  main()"
      ],
      "execution_count": null,
      "outputs": [
        {
          "output_type": "stream",
          "text": [
            "       Age  Fnlwgt  ...  Native-country_Hong  Native-country_Holand-Netherlands\n",
            "0       25  226802  ...                    0                                  0\n",
            "1       38   89814  ...                    0                                  0\n",
            "2       28  336951  ...                    0                                  0\n",
            "3       44  160323  ...                    0                                  0\n",
            "4       18  103497  ...                    0                                  0\n",
            "...    ...     ...  ...                  ...                                ...\n",
            "48837   27  257302  ...                    0                                  0\n",
            "48838   40  154374  ...                    0                                  0\n",
            "48839   58  151910  ...                    0                                  0\n",
            "48840   22  201490  ...                    0                                  0\n",
            "48841   52  287927  ...                    0                                  0\n",
            "\n",
            "[48842 rows x 105 columns]\n",
            "\n",
            "Data Info:\n",
            "DataSet Size: 48842\n",
            "Training Data Size: 48353\n",
            "Testing Data Size: 489\n",
            "\n",
            "K has been set to 22\n",
            "Wanna change it?\n",
            "-1=no\n",
            "Enter Number for K: 12\n",
            "=================================\n",
            "Processing Manual KNN for K = 12\n",
            "Finished! in 37.65194034576416s\n",
            "Accuracy of Manual KNN:78.32310838445807\n",
            "=================================\n",
            "Processing SKLearn KNN for K = 12\n",
            "Finished! in 3.469032049179077s\n",
            "Accuracy of SKLearn KNN:77.70961145194273\n",
            "=================================\n",
            "Processing SKLearn SVM\n",
            "Finished! in 223.19815826416016s\n",
            "Accuracy of SKLearn SVM:81.18609406952966\n"
          ],
          "name": "stdout"
        }
      ]
    }
  ]
}